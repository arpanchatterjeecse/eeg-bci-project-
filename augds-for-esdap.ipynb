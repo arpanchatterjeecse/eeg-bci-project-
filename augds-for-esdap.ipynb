{
 "cells": [
  {
   "cell_type": "code",
   "execution_count": 1,
   "id": "b3bd3e22",
   "metadata": {
    "_cell_guid": "b1076dfc-b9ad-4769-8c92-a6c4dae69d19",
    "_uuid": "8f2839f25d086af736a60e9eeb907d3b93b6e0e5",
    "execution": {
     "iopub.execute_input": "2025-05-23T13:09:21.403328Z",
     "iopub.status.busy": "2025-05-23T13:09:21.403021Z",
     "iopub.status.idle": "2025-05-23T13:09:25.306773Z",
     "shell.execute_reply": "2025-05-23T13:09:25.305776Z"
    },
    "papermill": {
     "duration": 3.9088,
     "end_time": "2025-05-23T13:09:25.308237",
     "exception": false,
     "start_time": "2025-05-23T13:09:21.399437",
     "status": "completed"
    },
    "tags": []
   },
   "outputs": [
    {
     "data": {
      "text/html": [
       "<div>\n",
       "<style scoped>\n",
       "    .dataframe tbody tr th:only-of-type {\n",
       "        vertical-align: middle;\n",
       "    }\n",
       "\n",
       "    .dataframe tbody tr th {\n",
       "        vertical-align: top;\n",
       "    }\n",
       "\n",
       "    .dataframe thead th {\n",
       "        text-align: right;\n",
       "    }\n",
       "</style>\n",
       "<table border=\"1\" class=\"dataframe\">\n",
       "  <thead>\n",
       "    <tr style=\"text-align: right;\">\n",
       "      <th></th>\n",
       "      <th>Unnamed</th>\n",
       "      <th>X1</th>\n",
       "      <th>X2</th>\n",
       "      <th>X3</th>\n",
       "      <th>X4</th>\n",
       "      <th>X5</th>\n",
       "      <th>X6</th>\n",
       "      <th>X7</th>\n",
       "      <th>X8</th>\n",
       "      <th>X9</th>\n",
       "      <th>...</th>\n",
       "      <th>X170</th>\n",
       "      <th>X171</th>\n",
       "      <th>X172</th>\n",
       "      <th>X173</th>\n",
       "      <th>X174</th>\n",
       "      <th>X175</th>\n",
       "      <th>X176</th>\n",
       "      <th>X177</th>\n",
       "      <th>X178</th>\n",
       "      <th>y</th>\n",
       "    </tr>\n",
       "  </thead>\n",
       "  <tbody>\n",
       "    <tr>\n",
       "      <th>0</th>\n",
       "      <td>X21.V1.791</td>\n",
       "      <td>135</td>\n",
       "      <td>190</td>\n",
       "      <td>229</td>\n",
       "      <td>223</td>\n",
       "      <td>192</td>\n",
       "      <td>125</td>\n",
       "      <td>55</td>\n",
       "      <td>-9</td>\n",
       "      <td>-33</td>\n",
       "      <td>...</td>\n",
       "      <td>-17</td>\n",
       "      <td>-15</td>\n",
       "      <td>-31</td>\n",
       "      <td>-77</td>\n",
       "      <td>-103</td>\n",
       "      <td>-127</td>\n",
       "      <td>-116</td>\n",
       "      <td>-83</td>\n",
       "      <td>-51</td>\n",
       "      <td>4</td>\n",
       "    </tr>\n",
       "    <tr>\n",
       "      <th>1</th>\n",
       "      <td>X15.V1.924</td>\n",
       "      <td>386</td>\n",
       "      <td>382</td>\n",
       "      <td>356</td>\n",
       "      <td>331</td>\n",
       "      <td>320</td>\n",
       "      <td>315</td>\n",
       "      <td>307</td>\n",
       "      <td>272</td>\n",
       "      <td>244</td>\n",
       "      <td>...</td>\n",
       "      <td>164</td>\n",
       "      <td>150</td>\n",
       "      <td>146</td>\n",
       "      <td>152</td>\n",
       "      <td>157</td>\n",
       "      <td>156</td>\n",
       "      <td>154</td>\n",
       "      <td>143</td>\n",
       "      <td>129</td>\n",
       "      <td>1</td>\n",
       "    </tr>\n",
       "    <tr>\n",
       "      <th>2</th>\n",
       "      <td>X8.V1.1</td>\n",
       "      <td>-32</td>\n",
       "      <td>-39</td>\n",
       "      <td>-47</td>\n",
       "      <td>-37</td>\n",
       "      <td>-32</td>\n",
       "      <td>-36</td>\n",
       "      <td>-57</td>\n",
       "      <td>-73</td>\n",
       "      <td>-85</td>\n",
       "      <td>...</td>\n",
       "      <td>57</td>\n",
       "      <td>64</td>\n",
       "      <td>48</td>\n",
       "      <td>19</td>\n",
       "      <td>-12</td>\n",
       "      <td>-30</td>\n",
       "      <td>-35</td>\n",
       "      <td>-35</td>\n",
       "      <td>-36</td>\n",
       "      <td>5</td>\n",
       "    </tr>\n",
       "    <tr>\n",
       "      <th>3</th>\n",
       "      <td>X16.V1.60</td>\n",
       "      <td>-105</td>\n",
       "      <td>-101</td>\n",
       "      <td>-96</td>\n",
       "      <td>-92</td>\n",
       "      <td>-89</td>\n",
       "      <td>-95</td>\n",
       "      <td>-102</td>\n",
       "      <td>-100</td>\n",
       "      <td>-87</td>\n",
       "      <td>...</td>\n",
       "      <td>-82</td>\n",
       "      <td>-81</td>\n",
       "      <td>-80</td>\n",
       "      <td>-77</td>\n",
       "      <td>-85</td>\n",
       "      <td>-77</td>\n",
       "      <td>-72</td>\n",
       "      <td>-69</td>\n",
       "      <td>-65</td>\n",
       "      <td>5</td>\n",
       "    </tr>\n",
       "    <tr>\n",
       "      <th>4</th>\n",
       "      <td>X20.V1.54</td>\n",
       "      <td>-9</td>\n",
       "      <td>-65</td>\n",
       "      <td>-98</td>\n",
       "      <td>-102</td>\n",
       "      <td>-78</td>\n",
       "      <td>-48</td>\n",
       "      <td>-16</td>\n",
       "      <td>0</td>\n",
       "      <td>-21</td>\n",
       "      <td>...</td>\n",
       "      <td>4</td>\n",
       "      <td>2</td>\n",
       "      <td>-12</td>\n",
       "      <td>-32</td>\n",
       "      <td>-41</td>\n",
       "      <td>-65</td>\n",
       "      <td>-83</td>\n",
       "      <td>-89</td>\n",
       "      <td>-73</td>\n",
       "      <td>5</td>\n",
       "    </tr>\n",
       "  </tbody>\n",
       "</table>\n",
       "<p>5 rows × 180 columns</p>\n",
       "</div>"
      ],
      "text/plain": [
       "      Unnamed   X1   X2   X3   X4   X5   X6   X7   X8   X9  ...  X170  X171  \\\n",
       "0  X21.V1.791  135  190  229  223  192  125   55   -9  -33  ...   -17   -15   \n",
       "1  X15.V1.924  386  382  356  331  320  315  307  272  244  ...   164   150   \n",
       "2     X8.V1.1  -32  -39  -47  -37  -32  -36  -57  -73  -85  ...    57    64   \n",
       "3   X16.V1.60 -105 -101  -96  -92  -89  -95 -102 -100  -87  ...   -82   -81   \n",
       "4   X20.V1.54   -9  -65  -98 -102  -78  -48  -16    0  -21  ...     4     2   \n",
       "\n",
       "   X172  X173  X174  X175  X176  X177  X178  y  \n",
       "0   -31   -77  -103  -127  -116   -83   -51  4  \n",
       "1   146   152   157   156   154   143   129  1  \n",
       "2    48    19   -12   -30   -35   -35   -36  5  \n",
       "3   -80   -77   -85   -77   -72   -69   -65  5  \n",
       "4   -12   -32   -41   -65   -83   -89   -73  5  \n",
       "\n",
       "[5 rows x 180 columns]"
      ]
     },
     "execution_count": 1,
     "metadata": {},
     "output_type": "execute_result"
    }
   ],
   "source": [
    "import numpy as np\n",
    "import pandas as pd\n",
    "from sklearn.preprocessing import StandardScaler\n",
    "from sklearn.model_selection import train_test_split\n",
    "from sklearn.utils import class_weight\n",
    "\n",
    "# 1. Load dataset\n",
    "df = pd.read_csv(\"/kaggle/input/epileptic-seizure-recognition/Epileptic Seizure Recognition.csv\")\n",
    "df.head()"
   ]
  },
  {
   "cell_type": "code",
   "execution_count": 2,
   "id": "137c49d3",
   "metadata": {
    "execution": {
     "iopub.execute_input": "2025-05-23T13:09:25.314755Z",
     "iopub.status.busy": "2025-05-23T13:09:25.314436Z",
     "iopub.status.idle": "2025-05-23T13:09:31.250329Z",
     "shell.execute_reply": "2025-05-23T13:09:31.249157Z"
    },
    "papermill": {
     "duration": 5.940607,
     "end_time": "2025-05-23T13:09:31.252029",
     "exception": false,
     "start_time": "2025-05-23T13:09:25.311422",
     "status": "completed"
    },
    "tags": []
   },
   "outputs": [
    {
     "name": "stdout",
     "output_type": "stream",
     "text": [
      "Augmented dataset saved as 'EEG_seizure_data_augmented.csv'\n"
     ]
    }
   ],
   "source": [
    "import numpy as np\n",
    "import pandas as pd\n",
    "from sklearn.preprocessing import StandardScaler\n",
    "from sklearn.model_selection import train_test_split\n",
    "from sklearn.utils import class_weight\n",
    "from scipy.interpolate import CubicSpline\n",
    "\n",
    "# 1. Load dataset\n",
    "df = pd.read_csv(\"/kaggle/input/epileptic-seizure-recognition/Epileptic Seizure Recognition.csv\")\n",
    "\n",
    "# 2. Drop the unnamed first column if present\n",
    "if 'Unnamed' in df.columns[0]:\n",
    "    df.drop(columns=[df.columns[0]], inplace=True)\n",
    "\n",
    "# 3. Separate features and target\n",
    "X = df.iloc[:, :-1].values\n",
    "y = df.iloc[:, -1].values\n",
    "\n",
    "# 4. Define data augmentation methods\n",
    "def jitter(X, sigma=0.05):\n",
    "    return X + np.random.normal(loc=0., scale=sigma, size=X.shape)\n",
    "\n",
    "def scaling(X, sigma=0.1):\n",
    "    factor = np.random.normal(loc=1.0, scale=sigma, size=(X.shape[0], 1))\n",
    "    return X * factor\n",
    "\n",
    "def time_warp(X, sigma=0.2):\n",
    "    orig_steps = np.arange(X.shape[1])\n",
    "    warped_X = np.empty_like(X)\n",
    "    for i in range(X.shape[0]):\n",
    "        random_warp = np.random.normal(loc=1.0, scale=sigma, size=X.shape[1])\n",
    "        warped_steps = np.cumsum(random_warp)\n",
    "        warped_steps = warped_steps / warped_steps[-1] * (X.shape[1] - 1)\n",
    "        cs = CubicSpline(warped_steps, X[i])\n",
    "        warped_X[i] = cs(orig_steps)\n",
    "    return warped_X\n",
    "\n",
    "# 5. Apply augmentations randomly to each sample\n",
    "np.random.seed(42)\n",
    "augmented_X = []\n",
    "augmented_y = []\n",
    "\n",
    "for i in range(X.shape[0]):\n",
    "    x = X[i].reshape(1, -1)\n",
    "    label = y[i]\n",
    "    method = np.random.choice(['jitter', 'scaling', 'time_warp'])\n",
    "\n",
    "    if method == 'jitter':\n",
    "        x_aug = jitter(x)\n",
    "    elif method == 'scaling':\n",
    "        x_aug = scaling(x)\n",
    "    elif method == 'time_warp':\n",
    "        x_aug = time_warp(x)\n",
    "\n",
    "    augmented_X.append(x_aug.flatten())\n",
    "    augmented_y.append(label)\n",
    "\n",
    "# 6. Combine original and augmented data\n",
    "X_augmented = np.vstack((X, np.array(augmented_X)))\n",
    "y_augmented = np.hstack((y, np.array(augmented_y)))\n",
    "\n",
    "# 7. Create a new DataFrame\n",
    "columns = [f'X{i+1}' for i in range(X.shape[1])]\n",
    "augmented_df = pd.DataFrame(X_augmented, columns=columns)\n",
    "augmented_df['y'] = y_augmented\n",
    "\n",
    "# 8. Save to CSV\n",
    "augmented_df.to_csv(\"EEG_seizure_data_augmented.csv\", index=False)\n",
    "print(\"Augmented dataset saved as 'EEG_seizure_data_augmented.csv'\")\n"
   ]
  },
  {
   "cell_type": "code",
   "execution_count": 3,
   "id": "bd522ec2",
   "metadata": {
    "execution": {
     "iopub.execute_input": "2025-05-23T13:09:31.257591Z",
     "iopub.status.busy": "2025-05-23T13:09:31.257213Z",
     "iopub.status.idle": "2025-05-23T13:09:32.089850Z",
     "shell.execute_reply": "2025-05-23T13:09:32.088905Z"
    },
    "papermill": {
     "duration": 0.837556,
     "end_time": "2025-05-23T13:09:32.091850",
     "exception": false,
     "start_time": "2025-05-23T13:09:31.254294",
     "status": "completed"
    },
    "tags": []
   },
   "outputs": [
    {
     "data": {
      "text/plain": [
       "(23000, 179)"
      ]
     },
     "execution_count": 3,
     "metadata": {},
     "output_type": "execute_result"
    }
   ],
   "source": [
    "df1=pd.read_csv(\"/kaggle/working/EEG_seizure_data_augmented.csv\")\n",
    "df1.shape"
   ]
  },
  {
   "cell_type": "code",
   "execution_count": 4,
   "id": "fed7b5c4",
   "metadata": {
    "execution": {
     "iopub.execute_input": "2025-05-23T13:09:32.098313Z",
     "iopub.status.busy": "2025-05-23T13:09:32.097736Z",
     "iopub.status.idle": "2025-05-23T13:09:32.103218Z",
     "shell.execute_reply": "2025-05-23T13:09:32.102377Z"
    },
    "papermill": {
     "duration": 0.010185,
     "end_time": "2025-05-23T13:09:32.104708",
     "exception": false,
     "start_time": "2025-05-23T13:09:32.094523",
     "status": "completed"
    },
    "tags": []
   },
   "outputs": [
    {
     "data": {
      "text/plain": [
       "(11500, 179)"
      ]
     },
     "execution_count": 4,
     "metadata": {},
     "output_type": "execute_result"
    }
   ],
   "source": [
    "df.shape"
   ]
  }
 ],
 "metadata": {
  "kaggle": {
   "accelerator": "none",
   "dataSources": [
    {
     "datasetId": 63117,
     "sourceId": 122455,
     "sourceType": "datasetVersion"
    }
   ],
   "dockerImageVersionId": 31040,
   "isGpuEnabled": false,
   "isInternetEnabled": true,
   "language": "python",
   "sourceType": "notebook"
  },
  "kernelspec": {
   "display_name": "Python 3",
   "language": "python",
   "name": "python3"
  },
  "language_info": {
   "codemirror_mode": {
    "name": "ipython",
    "version": 3
   },
   "file_extension": ".py",
   "mimetype": "text/x-python",
   "name": "python",
   "nbconvert_exporter": "python",
   "pygments_lexer": "ipython3",
   "version": "3.11.11"
  },
  "papermill": {
   "default_parameters": {},
   "duration": 16.184755,
   "end_time": "2025-05-23T13:09:32.726783",
   "environment_variables": {},
   "exception": null,
   "input_path": "__notebook__.ipynb",
   "output_path": "__notebook__.ipynb",
   "parameters": {},
   "start_time": "2025-05-23T13:09:16.542028",
   "version": "2.6.0"
  }
 },
 "nbformat": 4,
 "nbformat_minor": 5
}
