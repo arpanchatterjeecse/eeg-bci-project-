{
 "cells": [
  {
   "cell_type": "code",
   "execution_count": 1,
   "id": "d45f7563",
   "metadata": {
    "_cell_guid": "b1076dfc-b9ad-4769-8c92-a6c4dae69d19",
    "_uuid": "8f2839f25d086af736a60e9eeb907d3b93b6e0e5",
    "execution": {
     "iopub.execute_input": "2025-05-26T09:06:21.313659Z",
     "iopub.status.busy": "2025-05-26T09:06:21.313466Z",
     "iopub.status.idle": "2025-05-26T09:06:25.406614Z",
     "shell.execute_reply": "2025-05-26T09:06:25.405759Z"
    },
    "papermill": {
     "duration": 4.097404,
     "end_time": "2025-05-26T09:06:25.408017",
     "exception": false,
     "start_time": "2025-05-26T09:06:21.310613",
     "status": "completed"
    },
    "tags": []
   },
   "outputs": [
    {
     "name": "stdout",
     "output_type": "stream",
     "text": [
      "Data shapes:\n",
      "  Train:      (13800, 178, 1)\n",
      "  Validation: (4600, 178, 1)\n",
      "  Test:       (4600, 178, 1)\n",
      "Class weights: {0: 0.625, 1: 2.5}\n"
     ]
    }
   ],
   "source": [
    "import numpy as np\n",
    "import pandas as pd\n",
    "from sklearn.preprocessing import StandardScaler\n",
    "from sklearn.model_selection import train_test_split\n",
    "from sklearn.utils import class_weight\n",
    "\n",
    "# 1. Load dataset\n",
    "df = pd.read_csv(\"/kaggle/input/augmented-epileptic-seizure-dataset/EEG_seizure_data_augmented.csv\")\n",
    "# df.head()\n",
    "\n",
    "# 2. Drop index column if present\n",
    "if 'Unnamed' in df.columns:\n",
    "    df.drop('Unnamed', axis=1, inplace=True)\n",
    "\n",
    "# 3. Convert multiclass to binary:\n",
    "# Class 1 = seizure (label 1), Classes 2–5 = non-seizure (label 0)\n",
    "df['y_binary'] = (df['y'] == 1).astype(int)\n",
    "\n",
    "# 4. Define feature columns and extract data\n",
    "feature_cols = [f'X{i}' for i in range(1, 179)]  # X1 to X178\n",
    "X = df[feature_cols].values                     # Shape: (11500, 178)\n",
    "y = df['y_binary'].values                       # Shape: (11500,)\n",
    "\n",
    "# 5. Standardize features (mean 0, std 1)\n",
    "scaler = StandardScaler()\n",
    "X_scaled = scaler.fit_transform(X)\n",
    "\n",
    "# 6. Reshape for RNN input: (samples, timesteps, features_per_timestep)\n",
    "# Here: each sample has 178 timesteps, 1 feature per timestep\n",
    "X_reshaped = X_scaled.reshape(X_scaled.shape[0], X_scaled.shape[1], 1)  # (11500, 178, 1)\n",
    "\n",
    "# 7. Split data: 60% train, 20% validation, 20% test\n",
    "X_train_val, X_test, y_train_val, y_test = train_test_split(\n",
    "    X_reshaped, y, test_size=0.2, stratify=y, random_state=42)\n",
    "\n",
    "X_train, X_val, y_train, y_val = train_test_split(\n",
    "    X_train_val, y_train_val, test_size=0.25, stratify=y_train_val, random_state=42)\n",
    "\n",
    "# 8. Compute class weights for imbalanced data\n",
    "class_weights = class_weight.compute_class_weight(\n",
    "    class_weight='balanced', classes=np.unique(y_train), y=y_train)\n",
    "class_weight_dict = dict(enumerate(class_weights))\n",
    "\n",
    "# 9. Print shapes and weights\n",
    "print(\"Data shapes:\")\n",
    "print(f\"  Train:      {X_train.shape}\")\n",
    "print(f\"  Validation: {X_val.shape}\")\n",
    "print(f\"  Test:       {X_test.shape}\")\n",
    "print(f\"Class weights: {class_weight_dict}\")"
   ]
  },
  {
   "cell_type": "markdown",
   "id": "055f55b6",
   "metadata": {
    "papermill": {
     "duration": 0.001315,
     "end_time": "2025-05-26T09:06:25.411370",
     "exception": false,
     "start_time": "2025-05-26T09:06:25.410055",
     "status": "completed"
    },
    "tags": []
   },
   "source": [
    "# Model Defination\n"
   ]
  },
  {
   "cell_type": "code",
   "execution_count": 2,
   "id": "74dc7d1b",
   "metadata": {
    "execution": {
     "iopub.execute_input": "2025-05-26T09:06:25.415085Z",
     "iopub.status.busy": "2025-05-26T09:06:25.414862Z",
     "iopub.status.idle": "2025-05-26T09:06:38.481078Z",
     "shell.execute_reply": "2025-05-26T09:06:38.480254Z"
    },
    "papermill": {
     "duration": 13.069691,
     "end_time": "2025-05-26T09:06:38.482499",
     "exception": false,
     "start_time": "2025-05-26T09:06:25.412808",
     "status": "completed"
    },
    "tags": []
   },
   "outputs": [
    {
     "name": "stderr",
     "output_type": "stream",
     "text": [
      "2025-05-26 09:06:27.334136: E external/local_xla/xla/stream_executor/cuda/cuda_fft.cc:477] Unable to register cuFFT factory: Attempting to register factory for plugin cuFFT when one has already been registered\n",
      "WARNING: All log messages before absl::InitializeLog() is called are written to STDERR\n",
      "E0000 00:00:1748250387.532785      19 cuda_dnn.cc:8310] Unable to register cuDNN factory: Attempting to register factory for plugin cuDNN when one has already been registered\n",
      "E0000 00:00:1748250387.595768      19 cuda_blas.cc:1418] Unable to register cuBLAS factory: Attempting to register factory for plugin cuBLAS when one has already been registered\n"
     ]
    }
   ],
   "source": [
    "import keras_tuner as kt\n",
    "from tensorflow.keras.models import Model\n",
    "from tensorflow.keras.layers import Input, GRU, Dense, Dropout, BatchNormalization, Bidirectional, Multiply, Permute, Lambda\n",
    "from tensorflow.keras.optimizers import Adam\n",
    "import tensorflow.keras.backend as K\n",
    "\n",
    "def build_model(hp):\n",
    "    input_layer = Input(shape=(178, 1))\n",
    "\n",
    "    x = Bidirectional(\n",
    "        GRU(hp.Int('gru_units1', 32, 128, step=16), return_sequences=True, activation='tanh')\n",
    "    )(input_layer)\n",
    "    x = Dropout(hp.Float('dropout1', 0.2, 0.5, step=0.1))(x)\n",
    "    x = BatchNormalization()(x)\n",
    "\n",
    "    x = Bidirectional(\n",
    "        GRU(hp.Int('gru_units2', 16, 64, step=16), return_sequences=True, activation='tanh')\n",
    "    )(x)\n",
    "    x = Dropout(hp.Float('dropout2', 0.2, 0.5, step=0.1))(x)\n",
    "    x = BatchNormalization()(x)\n",
    "\n",
    "    # Temporal Attention Mechanism\n",
    "    attention_weights = Dense(1, activation='tanh')(x)                         # shape: (batch, time_steps, 1)\n",
    "    attention_weights = Lambda(lambda z: K.softmax(z, axis=1))(attention_weights)  # softmax over time\n",
    "    context_vector = Multiply()([x, attention_weights])                        # weighted sequence\n",
    "    context_vector = Lambda(lambda z: K.sum(z, axis=1))(context_vector)        # sum over time steps\n",
    "\n",
    "    x = Dense(hp.Int('dense_units', 32, 128, step=32), activation='relu')(context_vector)\n",
    "    x = Dropout(hp.Float('dropout3', 0.2, 0.5, step=0.1))(x)\n",
    "\n",
    "    output = Dense(1, activation='sigmoid')(x)\n",
    "\n",
    "    model = Model(inputs=input_layer, outputs=output)\n",
    "\n",
    "    model.compile(\n",
    "        optimizer=Adam(learning_rate=hp.Choice('lr', [1e-3, 1e-4, 5e-4])),\n",
    "        loss='binary_crossentropy',\n",
    "        metrics=['accuracy']\n",
    "    )\n",
    "\n",
    "    return model\n"
   ]
  },
  {
   "cell_type": "markdown",
   "id": "ed74aa6a",
   "metadata": {
    "papermill": {
     "duration": 0.001438,
     "end_time": "2025-05-26T09:06:38.485795",
     "exception": false,
     "start_time": "2025-05-26T09:06:38.484357",
     "status": "completed"
    },
    "tags": []
   },
   "source": [
    "# HT"
   ]
  },
  {
   "cell_type": "code",
   "execution_count": 3,
   "id": "980d9198",
   "metadata": {
    "execution": {
     "iopub.execute_input": "2025-05-26T09:06:38.489798Z",
     "iopub.status.busy": "2025-05-26T09:06:38.489354Z",
     "iopub.status.idle": "2025-05-26T11:06:05.094827Z",
     "shell.execute_reply": "2025-05-26T11:06:05.094015Z"
    },
    "papermill": {
     "duration": 7166.608853,
     "end_time": "2025-05-26T11:06:05.096091",
     "exception": false,
     "start_time": "2025-05-26T09:06:38.487238",
     "status": "completed"
    },
    "tags": []
   },
   "outputs": [
    {
     "name": "stdout",
     "output_type": "stream",
     "text": [
      "Trial 20 Complete [00h 05m 44s]\n",
      "val_accuracy: 0.997826099395752\n",
      "\n",
      "Best val_accuracy So Far: 0.997826099395752\n",
      "Total elapsed time: 01h 57m 00s\n",
      "Best hyperparameters: {'gru_units1': 32, 'dropout1': 0.4, 'gru_units2': 64, 'dropout2': 0.30000000000000004, 'dense_units': 96, 'dropout3': 0.4, 'lr': 0.0005}\n",
      "Epoch 1/30\n"
     ]
    },
    {
     "name": "stderr",
     "output_type": "stream",
     "text": [
      "/usr/local/lib/python3.11/dist-packages/keras/src/saving/saving_lib.py:757: UserWarning: Skipping variable loading for optimizer 'adam', because it has 2 variables whereas the saved optimizer has 46 variables. \n",
      "  saveable.load_own_variables(weights_store.get(inner_path))\n"
     ]
    },
    {
     "name": "stdout",
     "output_type": "stream",
     "text": [
      "\u001b[1m432/432\u001b[0m \u001b[32m━━━━━━━━━━━━━━━━━━━━\u001b[0m\u001b[37m\u001b[0m \u001b[1m19s\u001b[0m 31ms/step - accuracy: 0.9961 - loss: 0.0089 - val_accuracy: 0.9952 - val_loss: 0.0125\n",
      "Epoch 2/30\n",
      "\u001b[1m432/432\u001b[0m \u001b[32m━━━━━━━━━━━━━━━━━━━━\u001b[0m\u001b[37m\u001b[0m \u001b[1m13s\u001b[0m 29ms/step - accuracy: 0.9951 - loss: 0.0135 - val_accuracy: 0.9959 - val_loss: 0.0124\n",
      "Epoch 3/30\n",
      "\u001b[1m432/432\u001b[0m \u001b[32m━━━━━━━━━━━━━━━━━━━━\u001b[0m\u001b[37m\u001b[0m \u001b[1m13s\u001b[0m 30ms/step - accuracy: 0.9973 - loss: 0.0087 - val_accuracy: 0.9972 - val_loss: 0.0097\n",
      "Epoch 4/30\n",
      "\u001b[1m432/432\u001b[0m \u001b[32m━━━━━━━━━━━━━━━━━━━━\u001b[0m\u001b[37m\u001b[0m \u001b[1m13s\u001b[0m 29ms/step - accuracy: 0.9964 - loss: 0.0126 - val_accuracy: 0.9963 - val_loss: 0.0093\n",
      "Epoch 5/30\n",
      "\u001b[1m432/432\u001b[0m \u001b[32m━━━━━━━━━━━━━━━━━━━━\u001b[0m\u001b[37m\u001b[0m \u001b[1m13s\u001b[0m 29ms/step - accuracy: 0.9973 - loss: 0.0094 - val_accuracy: 0.9980 - val_loss: 0.0063\n",
      "Epoch 6/30\n",
      "\u001b[1m432/432\u001b[0m \u001b[32m━━━━━━━━━━━━━━━━━━━━\u001b[0m\u001b[37m\u001b[0m \u001b[1m13s\u001b[0m 30ms/step - accuracy: 0.9973 - loss: 0.0083 - val_accuracy: 0.9976 - val_loss: 0.0090\n",
      "Epoch 7/30\n",
      "\u001b[1m432/432\u001b[0m \u001b[32m━━━━━━━━━━━━━━━━━━━━\u001b[0m\u001b[37m\u001b[0m \u001b[1m13s\u001b[0m 29ms/step - accuracy: 0.9962 - loss: 0.0097 - val_accuracy: 0.9980 - val_loss: 0.0087\n",
      "Epoch 8/30\n",
      "\u001b[1m432/432\u001b[0m \u001b[32m━━━━━━━━━━━━━━━━━━━━\u001b[0m\u001b[37m\u001b[0m \u001b[1m13s\u001b[0m 30ms/step - accuracy: 0.9969 - loss: 0.0068 - val_accuracy: 0.9965 - val_loss: 0.0132\n",
      "Epoch 9/30\n",
      "\u001b[1m432/432\u001b[0m \u001b[32m━━━━━━━━━━━━━━━━━━━━\u001b[0m\u001b[37m\u001b[0m \u001b[1m13s\u001b[0m 29ms/step - accuracy: 0.9976 - loss: 0.0074 - val_accuracy: 0.9970 - val_loss: 0.0100\n",
      "Epoch 10/30\n",
      "\u001b[1m432/432\u001b[0m \u001b[32m━━━━━━━━━━━━━━━━━━━━\u001b[0m\u001b[37m\u001b[0m \u001b[1m13s\u001b[0m 29ms/step - accuracy: 0.9991 - loss: 0.0036 - val_accuracy: 0.9948 - val_loss: 0.0123\n",
      "\u001b[1m432/432\u001b[0m \u001b[32m━━━━━━━━━━━━━━━━━━━━\u001b[0m\u001b[37m\u001b[0m \u001b[1m5s\u001b[0m 11ms/step\n",
      "\u001b[1m144/144\u001b[0m \u001b[32m━━━━━━━━━━━━━━━━━━━━\u001b[0m\u001b[37m\u001b[0m \u001b[1m1s\u001b[0m 10ms/step\n",
      "\u001b[1m144/144\u001b[0m \u001b[32m━━━━━━━━━━━━━━━━━━━━\u001b[0m\u001b[37m\u001b[0m \u001b[1m1s\u001b[0m 10ms/step\n",
      "Training Accuracy:   0.9992\n",
      "Validation Accuracy: 0.9980\n",
      "Test Accuracy:       0.9963\n"
     ]
    }
   ],
   "source": [
    "import keras_tuner as kt\n",
    "from tensorflow.keras.callbacks import EarlyStopping\n",
    "from sklearn.metrics import accuracy_score\n",
    "\n",
    "\n",
    "# 2. Setup tuner\n",
    "tuner = kt.BayesianOptimization(\n",
    "    build_model,\n",
    "    objective='val_accuracy',\n",
    "    max_trials=20,\n",
    "    directory='seizure_tuning',\n",
    "    project_name='rnn_seizure_detection'\n",
    ")\n",
    "\n",
    "# 3. Early stopping\n",
    "stop_early = EarlyStopping(monitor='val_loss', patience=5, restore_best_weights=True)\n",
    "\n",
    "# 4. Hyperparameter search\n",
    "tuner.search(X_train, y_train,\n",
    "             epochs=30,\n",
    "             validation_data=(X_val, y_val),\n",
    "             callbacks=[stop_early],\n",
    "             batch_size=32)\n",
    "\n",
    "# 5. Get best model and best hyperparameters\n",
    "best_model = tuner.get_best_models(num_models=1)[0]\n",
    "best_hp = tuner.get_best_hyperparameters(1)[0]\n",
    "print(\"Best hyperparameters:\", best_hp.values)\n",
    "\n",
    "# 6. Retrain on train+val data (optional)\n",
    "best_model.fit(X_train, y_train,\n",
    "               epochs=30,\n",
    "               validation_data=(X_val, y_val),\n",
    "               batch_size=32,\n",
    "               callbacks=[stop_early])\n",
    "\n",
    "# 7. Accuracy evaluation\n",
    "train_preds = (best_model.predict(X_train) > 0.5).astype(int)\n",
    "val_preds = (best_model.predict(X_val) > 0.5).astype(int)\n",
    "test_preds = (best_model.predict(X_test) > 0.5).astype(int)\n",
    "\n",
    "train_acc = accuracy_score(y_train, train_preds)\n",
    "val_acc = accuracy_score(y_val, val_preds)\n",
    "test_acc = accuracy_score(y_test, test_preds)\n",
    "\n",
    "print(f\"Training Accuracy:   {train_acc:.4f}\")\n",
    "print(f\"Validation Accuracy: {val_acc:.4f}\")\n",
    "print(f\"Test Accuracy:       {test_acc:.4f}\")\n"
   ]
  }
 ],
 "metadata": {
  "kaggle": {
   "accelerator": "nvidiaTeslaT4",
   "dataSources": [
    {
     "datasetId": 7495606,
     "sourceId": 11922377,
     "sourceType": "datasetVersion"
    }
   ],
   "dockerImageVersionId": 31041,
   "isGpuEnabled": true,
   "isInternetEnabled": true,
   "language": "python",
   "sourceType": "notebook"
  },
  "kernelspec": {
   "display_name": "Python 3",
   "language": "python",
   "name": "python3"
  },
  "language_info": {
   "codemirror_mode": {
    "name": "ipython",
    "version": 3
   },
   "file_extension": ".py",
   "mimetype": "text/x-python",
   "name": "python",
   "nbconvert_exporter": "python",
   "pygments_lexer": "ipython3",
   "version": "3.11.11"
  },
  "papermill": {
   "default_parameters": {},
   "duration": 7191.722768,
   "end_time": "2025-05-26T11:06:08.927444",
   "environment_variables": {},
   "exception": null,
   "input_path": "__notebook__.ipynb",
   "output_path": "__notebook__.ipynb",
   "parameters": {},
   "start_time": "2025-05-26T09:06:17.204676",
   "version": "2.6.0"
  }
 },
 "nbformat": 4,
 "nbformat_minor": 5
}
